{
 "cells": [
  {
   "cell_type": "markdown",
   "metadata": {},
   "source": [
    "# Taylor Swift Song Matching Demo"
   ]
  },
  {
   "cell_type": "markdown",
   "metadata": {},
   "source": [
    "### First, import the packages you'll need"
   ]
  },
  {
   "cell_type": "markdown",
   "metadata": {},
   "source": [
    "If you don't have numpy, you'll need to get it, but it should come with most standard python packages."
   ]
  },
  {
   "cell_type": "code",
   "execution_count": 1,
   "metadata": {},
   "outputs": [],
   "source": [
    "from taylorswift import *"
   ]
  },
  {
   "cell_type": "markdown",
   "metadata": {},
   "source": [
    "### Then run the code!"
   ]
  },
  {
   "cell_type": "markdown",
   "metadata": {},
   "source": [
    "The example below demonstrates the author's representation of their relationship with the James Webb Space Telescope. When you run the code, you'll be able to input your own answers and get your own personalized song list based on the details of your relationship."
   ]
  },
  {
   "cell_type": "code",
   "execution_count": null,
   "metadata": {},
   "outputs": [
    {
     "name": "stdout",
     "output_type": "stream",
     "text": [
      "\n",
      "\t    For these first four questions, if you are in a relationship, answer them with respect to your current relationship. If you are not currently in a relationship, answer them by considering either your most recent past relationship, or a potential relationship on the horizon, whichever you prefer.\n",
      "\t    \n",
      "\t    Which of these best describes your relationship?\n",
      "\t    1 - Our relationship ended because of cataclysmic past offenses. OR Our relationship has some serious problems.\n",
      "\t    2 - My feelings were a bit hurt when our relationship ended. OR Our relationship is going ok but has some problems.\n",
      "\t    3 - Our relationship ended, but not in a horribly bad way. It just ended. OR I feel pretty mediocre about the quality of our relationship.\n",
      "\t    4 - I wish I was in a relationship, but I don't think it will happen right now. OR I'm happy without a relationship right now.\n",
      "\t    5 - My relationship is pretty casual at the moment, not official or anything. OR I look back fondly on my past relationship, without feeling hurt or angry.\n",
      "\t    6 - My relationship is going well and we're thinking about long-term commitment.\n",
      "\t    7 - I'm getting married and/or comitting to this relationship for the rest of my life.\n",
      "\t    \n"
     ]
    }
   ],
   "source": [
    "taylorswift()"
   ]
  },
  {
   "cell_type": "code",
   "execution_count": null,
   "metadata": {},
   "outputs": [],
   "source": []
  }
 ],
 "metadata": {
  "kernelspec": {
   "display_name": "Python 3",
   "language": "python",
   "name": "python3"
  },
  "language_info": {
   "codemirror_mode": {
    "name": "ipython",
    "version": 3
   },
   "file_extension": ".py",
   "mimetype": "text/x-python",
   "name": "python",
   "nbconvert_exporter": "python",
   "pygments_lexer": "ipython3",
   "version": "3.7.3"
  }
 },
 "nbformat": 4,
 "nbformat_minor": 2
}
